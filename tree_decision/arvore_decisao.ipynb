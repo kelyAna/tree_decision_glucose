{
  "nbformat": 4,
  "nbformat_minor": 0,
  "metadata": {
    "colab": {
      "name": "arvore_decisao.ipynb",
      "provenance": [],
      "collapsed_sections": []
    },
    "kernelspec": {
      "name": "python3",
      "display_name": "Python 3"
    }
  },
  "cells": [
    {
      "cell_type": "markdown",
      "metadata": {
        "id": "pzJVvC74Tj7C",
        "colab_type": "text"
      },
      "source": [
        "***Uso de Árvore de Decisão para classificar ocorrências de problemas glicêmicos***"
      ]
    },
    {
      "cell_type": "markdown",
      "metadata": {
        "id": "JlNgX8VsTuZl",
        "colab_type": "text"
      },
      "source": [
        "**Importações das bibliotecas básicas**"
      ]
    },
    {
      "cell_type": "code",
      "metadata": {
        "id": "5fuCQh5QTGok",
        "colab_type": "code",
        "colab": {}
      },
      "source": [
        "import pandas as pd"
      ],
      "execution_count": 0,
      "outputs": []
    },
    {
      "cell_type": "markdown",
      "metadata": {
        "id": "bmcprqrcUDCJ",
        "colab_type": "text"
      },
      "source": [
        "**Leitura da base de dados**"
      ]
    },
    {
      "cell_type": "code",
      "metadata": {
        "id": "MiBMpCKQUGye",
        "colab_type": "code",
        "colab": {}
      },
      "source": [
        "df = pd.read_csv('diabetes.csv')"
      ],
      "execution_count": 0,
      "outputs": []
    },
    {
      "cell_type": "code",
      "metadata": {
        "id": "T0CDgIsZUSnv",
        "colab_type": "code",
        "outputId": "c983c412-b7ec-4fc7-8842-228517c26215",
        "colab": {
          "base_uri": "https://localhost:8080/",
          "height": 424
        }
      },
      "source": [
        "df"
      ],
      "execution_count": 60,
      "outputs": [
        {
          "output_type": "execute_result",
          "data": {
            "text/html": [
              "<div>\n",
              "<style scoped>\n",
              "    .dataframe tbody tr th:only-of-type {\n",
              "        vertical-align: middle;\n",
              "    }\n",
              "\n",
              "    .dataframe tbody tr th {\n",
              "        vertical-align: top;\n",
              "    }\n",
              "\n",
              "    .dataframe thead th {\n",
              "        text-align: right;\n",
              "    }\n",
              "</style>\n",
              "<table border=\"1\" class=\"dataframe\">\n",
              "  <thead>\n",
              "    <tr style=\"text-align: right;\">\n",
              "      <th></th>\n",
              "      <th>Pregnancies</th>\n",
              "      <th>Glucose</th>\n",
              "      <th>BloodPressure</th>\n",
              "      <th>SkinThickness</th>\n",
              "      <th>Insulin</th>\n",
              "      <th>BMI</th>\n",
              "      <th>DiabetesPedigreeFunction</th>\n",
              "      <th>Age</th>\n",
              "      <th>Outcome</th>\n",
              "    </tr>\n",
              "  </thead>\n",
              "  <tbody>\n",
              "    <tr>\n",
              "      <th>0</th>\n",
              "      <td>2</td>\n",
              "      <td>138</td>\n",
              "      <td>62</td>\n",
              "      <td>35</td>\n",
              "      <td>0</td>\n",
              "      <td>33.6</td>\n",
              "      <td>0.127</td>\n",
              "      <td>47</td>\n",
              "      <td>1</td>\n",
              "    </tr>\n",
              "    <tr>\n",
              "      <th>1</th>\n",
              "      <td>0</td>\n",
              "      <td>84</td>\n",
              "      <td>82</td>\n",
              "      <td>31</td>\n",
              "      <td>125</td>\n",
              "      <td>38.2</td>\n",
              "      <td>0.233</td>\n",
              "      <td>23</td>\n",
              "      <td>0</td>\n",
              "    </tr>\n",
              "    <tr>\n",
              "      <th>2</th>\n",
              "      <td>0</td>\n",
              "      <td>145</td>\n",
              "      <td>0</td>\n",
              "      <td>0</td>\n",
              "      <td>0</td>\n",
              "      <td>44.2</td>\n",
              "      <td>0.630</td>\n",
              "      <td>31</td>\n",
              "      <td>1</td>\n",
              "    </tr>\n",
              "    <tr>\n",
              "      <th>3</th>\n",
              "      <td>0</td>\n",
              "      <td>135</td>\n",
              "      <td>68</td>\n",
              "      <td>42</td>\n",
              "      <td>250</td>\n",
              "      <td>42.3</td>\n",
              "      <td>0.365</td>\n",
              "      <td>24</td>\n",
              "      <td>1</td>\n",
              "    </tr>\n",
              "    <tr>\n",
              "      <th>4</th>\n",
              "      <td>1</td>\n",
              "      <td>139</td>\n",
              "      <td>62</td>\n",
              "      <td>41</td>\n",
              "      <td>480</td>\n",
              "      <td>40.7</td>\n",
              "      <td>0.536</td>\n",
              "      <td>21</td>\n",
              "      <td>0</td>\n",
              "    </tr>\n",
              "    <tr>\n",
              "      <th>...</th>\n",
              "      <td>...</td>\n",
              "      <td>...</td>\n",
              "      <td>...</td>\n",
              "      <td>...</td>\n",
              "      <td>...</td>\n",
              "      <td>...</td>\n",
              "      <td>...</td>\n",
              "      <td>...</td>\n",
              "      <td>...</td>\n",
              "    </tr>\n",
              "    <tr>\n",
              "      <th>1995</th>\n",
              "      <td>2</td>\n",
              "      <td>75</td>\n",
              "      <td>64</td>\n",
              "      <td>24</td>\n",
              "      <td>55</td>\n",
              "      <td>29.7</td>\n",
              "      <td>0.370</td>\n",
              "      <td>33</td>\n",
              "      <td>0</td>\n",
              "    </tr>\n",
              "    <tr>\n",
              "      <th>1996</th>\n",
              "      <td>8</td>\n",
              "      <td>179</td>\n",
              "      <td>72</td>\n",
              "      <td>42</td>\n",
              "      <td>130</td>\n",
              "      <td>32.7</td>\n",
              "      <td>0.719</td>\n",
              "      <td>36</td>\n",
              "      <td>1</td>\n",
              "    </tr>\n",
              "    <tr>\n",
              "      <th>1997</th>\n",
              "      <td>6</td>\n",
              "      <td>85</td>\n",
              "      <td>78</td>\n",
              "      <td>0</td>\n",
              "      <td>0</td>\n",
              "      <td>31.2</td>\n",
              "      <td>0.382</td>\n",
              "      <td>42</td>\n",
              "      <td>0</td>\n",
              "    </tr>\n",
              "    <tr>\n",
              "      <th>1998</th>\n",
              "      <td>0</td>\n",
              "      <td>129</td>\n",
              "      <td>110</td>\n",
              "      <td>46</td>\n",
              "      <td>130</td>\n",
              "      <td>67.1</td>\n",
              "      <td>0.319</td>\n",
              "      <td>26</td>\n",
              "      <td>1</td>\n",
              "    </tr>\n",
              "    <tr>\n",
              "      <th>1999</th>\n",
              "      <td>2</td>\n",
              "      <td>81</td>\n",
              "      <td>72</td>\n",
              "      <td>15</td>\n",
              "      <td>76</td>\n",
              "      <td>30.1</td>\n",
              "      <td>0.547</td>\n",
              "      <td>25</td>\n",
              "      <td>0</td>\n",
              "    </tr>\n",
              "  </tbody>\n",
              "</table>\n",
              "<p>2000 rows × 9 columns</p>\n",
              "</div>"
            ],
            "text/plain": [
              "      Pregnancies  Glucose  ...  Age  Outcome\n",
              "0               2      138  ...   47        1\n",
              "1               0       84  ...   23        0\n",
              "2               0      145  ...   31        1\n",
              "3               0      135  ...   24        1\n",
              "4               1      139  ...   21        0\n",
              "...           ...      ...  ...  ...      ...\n",
              "1995            2       75  ...   33        0\n",
              "1996            8      179  ...   36        1\n",
              "1997            6       85  ...   42        0\n",
              "1998            0      129  ...   26        1\n",
              "1999            2       81  ...   25        0\n",
              "\n",
              "[2000 rows x 9 columns]"
            ]
          },
          "metadata": {
            "tags": []
          },
          "execution_count": 60
        }
      ]
    },
    {
      "cell_type": "markdown",
      "metadata": {
        "id": "SESzzI5dUjNI",
        "colab_type": "text"
      },
      "source": [
        "**Verificando se o df possui valores nulos**"
      ]
    },
    {
      "cell_type": "code",
      "metadata": {
        "id": "ZdcR3UOWUhkW",
        "colab_type": "code",
        "outputId": "2ed40eb2-6460-48cb-8905-acdb700065f5",
        "colab": {
          "base_uri": "https://localhost:8080/",
          "height": 191
        }
      },
      "source": [
        "df.isnull().sum()"
      ],
      "execution_count": 61,
      "outputs": [
        {
          "output_type": "execute_result",
          "data": {
            "text/plain": [
              "Pregnancies                 0\n",
              "Glucose                     0\n",
              "BloodPressure               0\n",
              "SkinThickness               0\n",
              "Insulin                     0\n",
              "BMI                         0\n",
              "DiabetesPedigreeFunction    0\n",
              "Age                         0\n",
              "Outcome                     0\n",
              "dtype: int64"
            ]
          },
          "metadata": {
            "tags": []
          },
          "execution_count": 61
        }
      ]
    },
    {
      "cell_type": "markdown",
      "metadata": {
        "id": "DWb__vPEUwyp",
        "colab_type": "text"
      },
      "source": [
        "**Divindo o df em features e labels**"
      ]
    },
    {
      "cell_type": "code",
      "metadata": {
        "id": "i8PgWSzfU67o",
        "colab_type": "code",
        "colab": {}
      },
      "source": [
        "features = df.iloc[:,0:8].values"
      ],
      "execution_count": 0,
      "outputs": []
    },
    {
      "cell_type": "code",
      "metadata": {
        "id": "NGoED-cZVG6x",
        "colab_type": "code",
        "outputId": "5f8a3b57-e4c6-45bb-e677-28889c891ce3",
        "colab": {
          "base_uri": "https://localhost:8080/",
          "height": 34
        }
      },
      "source": [
        "features.shape"
      ],
      "execution_count": 63,
      "outputs": [
        {
          "output_type": "execute_result",
          "data": {
            "text/plain": [
              "(2000, 8)"
            ]
          },
          "metadata": {
            "tags": []
          },
          "execution_count": 63
        }
      ]
    },
    {
      "cell_type": "code",
      "metadata": {
        "id": "Py8yB7LEVNFT",
        "colab_type": "code",
        "colab": {}
      },
      "source": [
        "labels = df.iloc[:,8].values"
      ],
      "execution_count": 0,
      "outputs": []
    },
    {
      "cell_type": "code",
      "metadata": {
        "id": "w8CXVoyNVcPX",
        "colab_type": "code",
        "outputId": "4d4f24e7-ee28-4b73-a8af-8d7e60562ec3",
        "colab": {
          "base_uri": "https://localhost:8080/",
          "height": 34
        }
      },
      "source": [
        "labels.shape"
      ],
      "execution_count": 65,
      "outputs": [
        {
          "output_type": "execute_result",
          "data": {
            "text/plain": [
              "(2000,)"
            ]
          },
          "metadata": {
            "tags": []
          },
          "execution_count": 65
        }
      ]
    },
    {
      "cell_type": "markdown",
      "metadata": {
        "id": "YRSwHX1DVe9g",
        "colab_type": "text"
      },
      "source": [
        "**Dividindo o df em treino e teste**"
      ]
    },
    {
      "cell_type": "code",
      "metadata": {
        "id": "K9IS6NATVjzU",
        "colab_type": "code",
        "colab": {}
      },
      "source": [
        "from sklearn.model_selection import train_test_split"
      ],
      "execution_count": 0,
      "outputs": []
    },
    {
      "cell_type": "code",
      "metadata": {
        "id": "3D8iRo6aVx9e",
        "colab_type": "code",
        "colab": {}
      },
      "source": [
        "X_train,X_teste, y_train, y_teste = train_test_split(features,labels, test_size = 0.25, random_state = 0)"
      ],
      "execution_count": 0,
      "outputs": []
    },
    {
      "cell_type": "markdown",
      "metadata": {
        "id": "JSA92dSDWUGr",
        "colab_type": "text"
      },
      "source": [
        "**Importação da Árvore de Decisão**"
      ]
    },
    {
      "cell_type": "code",
      "metadata": {
        "id": "sC8hyV0FWZlN",
        "colab_type": "code",
        "colab": {}
      },
      "source": [
        "from sklearn.tree import DecisionTreeClassifier"
      ],
      "execution_count": 0,
      "outputs": []
    },
    {
      "cell_type": "markdown",
      "metadata": {
        "id": "bNC73dAEcCZU",
        "colab_type": "text"
      },
      "source": [
        "**Criação do modelo**"
      ]
    },
    {
      "cell_type": "code",
      "metadata": {
        "id": "v2ly5KC1bO-K",
        "colab_type": "code",
        "colab": {}
      },
      "source": [
        "model_ad = DecisionTreeClassifier()"
      ],
      "execution_count": 0,
      "outputs": []
    },
    {
      "cell_type": "code",
      "metadata": {
        "id": "tEo86bG0b3vp",
        "colab_type": "code",
        "outputId": "37611d81-2936-443a-c16a-2d188cc87ce6",
        "colab": {
          "base_uri": "https://localhost:8080/",
          "height": 121
        }
      },
      "source": [
        "model_ad.fit(X_train,y_train)"
      ],
      "execution_count": 70,
      "outputs": [
        {
          "output_type": "execute_result",
          "data": {
            "text/plain": [
              "DecisionTreeClassifier(ccp_alpha=0.0, class_weight=None, criterion='gini',\n",
              "                       max_depth=None, max_features=None, max_leaf_nodes=None,\n",
              "                       min_impurity_decrease=0.0, min_impurity_split=None,\n",
              "                       min_samples_leaf=1, min_samples_split=2,\n",
              "                       min_weight_fraction_leaf=0.0, presort='deprecated',\n",
              "                       random_state=None, splitter='best')"
            ]
          },
          "metadata": {
            "tags": []
          },
          "execution_count": 70
        }
      ]
    },
    {
      "cell_type": "markdown",
      "metadata": {
        "id": "TTHnfDkjcv27",
        "colab_type": "text"
      },
      "source": [
        "**Visualização do modelo**"
      ]
    },
    {
      "cell_type": "code",
      "metadata": {
        "id": "mA5zKnj0c3-h",
        "colab_type": "code",
        "colab": {}
      },
      "source": [
        "from sklearn.tree import export"
      ],
      "execution_count": 0,
      "outputs": []
    },
    {
      "cell_type": "code",
      "metadata": {
        "id": "cywksIfFdFf6",
        "colab_type": "code",
        "colab": {}
      },
      "source": [
        "export.export_graphviz(model_ad,\n",
        "                       out_file = 'arvore_decision.png',\n",
        "                       feature_names = ['Pregnancies', 'Glucose', 'BloodPressure', 'SkinThickness','Insulin','BMI',\n",
        "                                        'DiabetesPedigreeFunction','Age'],\n",
        "                       class_names = ['1', '0'],\n",
        "                       leaves_parallel=True)"
      ],
      "execution_count": 0,
      "outputs": []
    },
    {
      "cell_type": "code",
      "metadata": {
        "id": "Z39ZHCrIfgaT",
        "colab_type": "code",
        "colab": {}
      },
      "source": [
        "from sklearn import tree"
      ],
      "execution_count": 0,
      "outputs": []
    },
    {
      "cell_type": "code",
      "metadata": {
        "id": "-6hA32jVgBRO",
        "colab_type": "code",
        "colab": {
          "base_uri": "https://localhost:8080/",
          "height": 1000
        },
        "outputId": "5ddaec82-1c8f-4147-f473-d6497459527a"
      },
      "source": [
        "tree.plot_tree(model_ad)"
      ],
      "execution_count": 78,
      "outputs": [
        {
          "output_type": "execute_result",
          "data": {
            "text/plain": [
              "[Text(175.93143310546876, 210.192, 'X[1] <= 137.5\\ngini = 0.452\\nsamples = 1500\\nvalue = [982, 518]'),\n",
              " Text(89.2377685546875, 195.696, 'X[7] <= 28.5\\ngini = 0.34\\nsamples = 1071\\nvalue = [838, 233]'),\n",
              " Text(56.2359375, 181.2, 'X[5] <= 45.4\\ngini = 0.191\\nsamples = 597\\nvalue = [533, 64]'),\n",
              " Text(41.85, 166.704, 'X[1] <= 124.5\\ngini = 0.17\\nsamples = 586\\nvalue = [531, 55]'),\n",
              " Text(20.925, 152.208, 'X[5] <= 31.4\\ngini = 0.113\\nsamples = 497\\nvalue = [467, 30]'),\n",
              " Text(10.4625, 137.712, 'X[0] <= 7.5\\ngini = 0.014\\nsamples = 278\\nvalue = [276, 2]'),\n",
              " Text(7.846875000000001, 123.216, 'X[6] <= 0.672\\ngini = 0.007\\nsamples = 277\\nvalue = [276, 1]'),\n",
              " Text(5.23125, 108.72, 'gini = 0.0\\nsamples = 244\\nvalue = [244, 0]'),\n",
              " Text(10.4625, 108.72, 'X[6] <= 0.686\\ngini = 0.059\\nsamples = 33\\nvalue = [32, 1]'),\n",
              " Text(7.846875000000001, 94.22399999999999, 'gini = 0.0\\nsamples = 1\\nvalue = [0, 1]'),\n",
              " Text(13.078125, 94.22399999999999, 'gini = 0.0\\nsamples = 32\\nvalue = [32, 0]'),\n",
              " Text(13.078125, 123.216, 'gini = 0.0\\nsamples = 1\\nvalue = [0, 1]'),\n",
              " Text(31.387500000000003, 137.712, 'X[6] <= 1.272\\ngini = 0.223\\nsamples = 219\\nvalue = [191, 28]'),\n",
              " Text(28.771875, 123.216, 'X[2] <= 22.0\\ngini = 0.205\\nsamples = 216\\nvalue = [191, 25]'),\n",
              " Text(26.15625, 108.72, 'gini = 0.0\\nsamples = 2\\nvalue = [0, 2]'),\n",
              " Text(31.387500000000003, 108.72, 'X[6] <= 0.664\\ngini = 0.192\\nsamples = 214\\nvalue = [191, 23]'),\n",
              " Text(18.309375, 94.22399999999999, 'X[4] <= 38.0\\ngini = 0.146\\nsamples = 177\\nvalue = [163, 14]'),\n",
              " Text(13.078125, 79.72799999999998, 'X[4] <= 34.0\\ngini = 0.35\\nsamples = 53\\nvalue = [41, 12]'),\n",
              " Text(10.4625, 65.232, 'X[1] <= 111.5\\ngini = 0.295\\nsamples = 50\\nvalue = [41, 9]'),\n",
              " Text(5.23125, 50.73599999999999, 'X[3] <= 40.5\\ngini = 0.059\\nsamples = 33\\nvalue = [32, 1]'),\n",
              " Text(2.615625, 36.23999999999998, 'gini = 0.0\\nsamples = 32\\nvalue = [32, 0]'),\n",
              " Text(7.846875000000001, 36.23999999999998, 'gini = 0.0\\nsamples = 1\\nvalue = [0, 1]'),\n",
              " Text(15.693750000000001, 50.73599999999999, 'X[5] <= 34.65\\ngini = 0.498\\nsamples = 17\\nvalue = [9, 8]'),\n",
              " Text(13.078125, 36.23999999999998, 'gini = 0.0\\nsamples = 6\\nvalue = [0, 6]'),\n",
              " Text(18.309375, 36.23999999999998, 'X[2] <= 56.0\\ngini = 0.298\\nsamples = 11\\nvalue = [9, 2]'),\n",
              " Text(15.693750000000001, 21.744, 'gini = 0.0\\nsamples = 2\\nvalue = [0, 2]'),\n",
              " Text(20.925, 21.744, 'gini = 0.0\\nsamples = 9\\nvalue = [9, 0]'),\n",
              " Text(15.693750000000001, 65.232, 'gini = 0.0\\nsamples = 3\\nvalue = [0, 3]'),\n",
              " Text(23.540625000000002, 79.72799999999998, 'X[6] <= 0.509\\ngini = 0.032\\nsamples = 124\\nvalue = [122, 2]'),\n",
              " Text(20.925, 65.232, 'gini = 0.0\\nsamples = 103\\nvalue = [103, 0]'),\n",
              " Text(26.15625, 65.232, 'X[3] <= 36.5\\ngini = 0.172\\nsamples = 21\\nvalue = [19, 2]'),\n",
              " Text(23.540625000000002, 50.73599999999999, 'gini = 0.0\\nsamples = 19\\nvalue = [19, 0]'),\n",
              " Text(28.771875, 50.73599999999999, 'gini = 0.0\\nsamples = 2\\nvalue = [0, 2]'),\n",
              " Text(44.465625, 94.22399999999999, 'X[4] <= 159.0\\ngini = 0.368\\nsamples = 37\\nvalue = [28, 9]'),\n",
              " Text(41.85, 79.72799999999998, 'X[4] <= 65.5\\ngini = 0.291\\nsamples = 34\\nvalue = [28, 6]'),\n",
              " Text(36.61875, 65.232, 'X[7] <= 22.0\\ngini = 0.095\\nsamples = 20\\nvalue = [19, 1]'),\n",
              " Text(34.003125000000004, 50.73599999999999, 'gini = 0.0\\nsamples = 1\\nvalue = [0, 1]'),\n",
              " Text(39.234375, 50.73599999999999, 'gini = 0.0\\nsamples = 19\\nvalue = [19, 0]'),\n",
              " Text(47.081250000000004, 65.232, 'X[1] <= 114.0\\ngini = 0.459\\nsamples = 14\\nvalue = [9, 5]'),\n",
              " Text(44.465625, 50.73599999999999, 'X[6] <= 0.927\\ngini = 0.408\\nsamples = 7\\nvalue = [2, 5]'),\n",
              " Text(41.85, 36.23999999999998, 'gini = 0.0\\nsamples = 5\\nvalue = [0, 5]'),\n",
              " Text(47.081250000000004, 36.23999999999998, 'gini = 0.0\\nsamples = 2\\nvalue = [2, 0]'),\n",
              " Text(49.696875, 50.73599999999999, 'gini = 0.0\\nsamples = 7\\nvalue = [7, 0]'),\n",
              " Text(47.081250000000004, 79.72799999999998, 'gini = 0.0\\nsamples = 3\\nvalue = [0, 3]'),\n",
              " Text(34.003125000000004, 123.216, 'gini = 0.0\\nsamples = 3\\nvalue = [0, 3]'),\n",
              " Text(62.775000000000006, 152.208, 'X[7] <= 25.5\\ngini = 0.404\\nsamples = 89\\nvalue = [64, 25]'),\n",
              " Text(54.928125, 137.712, 'X[5] <= 28.8\\ngini = 0.287\\nsamples = 69\\nvalue = [57, 12]'),\n",
              " Text(52.3125, 123.216, 'gini = 0.0\\nsamples = 32\\nvalue = [32, 0]'),\n",
              " Text(57.54375, 123.216, 'X[2] <= 72.0\\ngini = 0.438\\nsamples = 37\\nvalue = [25, 12]'),\n",
              " Text(54.928125, 108.72, 'X[6] <= 0.186\\ngini = 0.5\\nsamples = 24\\nvalue = [12, 12]'),\n",
              " Text(52.3125, 94.22399999999999, 'gini = 0.0\\nsamples = 7\\nvalue = [7, 0]'),\n",
              " Text(57.54375, 94.22399999999999, 'X[1] <= 129.5\\ngini = 0.415\\nsamples = 17\\nvalue = [5, 12]'),\n",
              " Text(54.928125, 79.72799999999998, 'X[0] <= 1.5\\ngini = 0.469\\nsamples = 8\\nvalue = [5, 3]'),\n",
              " Text(52.3125, 65.232, 'gini = 0.0\\nsamples = 3\\nvalue = [0, 3]'),\n",
              " Text(57.54375, 65.232, 'gini = 0.0\\nsamples = 5\\nvalue = [5, 0]'),\n",
              " Text(60.159375000000004, 79.72799999999998, 'gini = 0.0\\nsamples = 9\\nvalue = [0, 9]'),\n",
              " Text(60.159375000000004, 108.72, 'gini = 0.0\\nsamples = 13\\nvalue = [13, 0]'),\n",
              " Text(70.621875, 137.712, 'X[2] <= 82.0\\ngini = 0.455\\nsamples = 20\\nvalue = [7, 13]'),\n",
              " Text(68.00625000000001, 123.216, 'X[6] <= 0.189\\ngini = 0.231\\nsamples = 15\\nvalue = [2, 13]'),\n",
              " Text(65.390625, 108.72, 'gini = 0.0\\nsamples = 2\\nvalue = [2, 0]'),\n",
              " Text(70.621875, 108.72, 'gini = 0.0\\nsamples = 13\\nvalue = [0, 13]'),\n",
              " Text(73.2375, 123.216, 'gini = 0.0\\nsamples = 5\\nvalue = [5, 0]'),\n",
              " Text(70.621875, 166.704, 'X[7] <= 22.5\\ngini = 0.298\\nsamples = 11\\nvalue = [2, 9]'),\n",
              " Text(68.00625000000001, 152.208, 'gini = 0.0\\nsamples = 2\\nvalue = [2, 0]'),\n",
              " Text(73.2375, 152.208, 'gini = 0.0\\nsamples = 9\\nvalue = [0, 9]'),\n",
              " Text(122.239599609375, 181.2, 'X[5] <= 26.95\\ngini = 0.459\\nsamples = 474\\nvalue = [305, 169]'),\n",
              " Text(83.7, 166.704, 'X[4] <= 217.5\\ngini = 0.138\\nsamples = 94\\nvalue = [87, 7]'),\n",
              " Text(81.08437500000001, 152.208, 'X[7] <= 29.5\\ngini = 0.103\\nsamples = 92\\nvalue = [87, 5]'),\n",
              " Text(78.46875, 137.712, 'gini = 0.0\\nsamples = 1\\nvalue = [0, 1]'),\n",
              " Text(83.7, 137.712, 'X[5] <= 9.65\\ngini = 0.084\\nsamples = 91\\nvalue = [87, 4]'),\n",
              " Text(78.46875, 123.216, 'X[0] <= 7.5\\ngini = 0.48\\nsamples = 5\\nvalue = [3, 2]'),\n",
              " Text(75.853125, 108.72, 'gini = 0.0\\nsamples = 3\\nvalue = [3, 0]'),\n",
              " Text(81.08437500000001, 108.72, 'gini = 0.0\\nsamples = 2\\nvalue = [0, 2]'),\n",
              " Text(88.93125, 123.216, 'X[1] <= 133.0\\ngini = 0.045\\nsamples = 86\\nvalue = [84, 2]'),\n",
              " Text(86.315625, 108.72, 'gini = 0.0\\nsamples = 75\\nvalue = [75, 0]'),\n",
              " Text(91.546875, 108.72, 'X[5] <= 24.0\\ngini = 0.298\\nsamples = 11\\nvalue = [9, 2]'),\n",
              " Text(88.93125, 94.22399999999999, 'gini = 0.0\\nsamples = 2\\nvalue = [0, 2]'),\n",
              " Text(94.16250000000001, 94.22399999999999, 'gini = 0.0\\nsamples = 9\\nvalue = [9, 0]'),\n",
              " Text(86.315625, 152.208, 'gini = 0.0\\nsamples = 2\\nvalue = [0, 2]'),\n",
              " Text(160.77919921875, 166.704, 'X[1] <= 103.5\\ngini = 0.489\\nsamples = 380\\nvalue = [218, 162]'),\n",
              " Text(119.991796875, 152.208, 'X[1] <= 28.5\\ngini = 0.352\\nsamples = 145\\nvalue = [112, 33]'),\n",
              " Text(117.376171875, 137.712, 'gini = 0.0\\nsamples = 6\\nvalue = [0, 6]'),\n",
              " Text(122.607421875, 137.712, 'X[1] <= 94.5\\ngini = 0.313\\nsamples = 139\\nvalue = [112, 27]'),\n",
              " Text(107.24062500000001, 123.216, 'X[0] <= 11.5\\ngini = 0.121\\nsamples = 77\\nvalue = [72, 5]'),\n",
              " Text(102.009375, 108.72, 'X[6] <= 1.16\\ngini = 0.056\\nsamples = 70\\nvalue = [68, 2]'),\n",
              " Text(99.39375, 94.22399999999999, 'X[7] <= 51.5\\ngini = 0.029\\nsamples = 69\\nvalue = [68, 1]'),\n",
              " Text(96.778125, 79.72799999999998, 'gini = 0.0\\nsamples = 66\\nvalue = [66, 0]'),\n",
              " Text(102.009375, 79.72799999999998, 'X[2] <= 83.5\\ngini = 0.444\\nsamples = 3\\nvalue = [2, 1]'),\n",
              " Text(99.39375, 65.232, 'gini = 0.0\\nsamples = 2\\nvalue = [2, 0]'),\n",
              " Text(104.625, 65.232, 'gini = 0.0\\nsamples = 1\\nvalue = [0, 1]'),\n",
              " Text(104.625, 94.22399999999999, 'gini = 0.0\\nsamples = 1\\nvalue = [0, 1]'),\n",
              " Text(112.471875, 108.72, 'X[5] <= 31.25\\ngini = 0.49\\nsamples = 7\\nvalue = [4, 3]'),\n",
              " Text(109.85625, 94.22399999999999, 'gini = 0.0\\nsamples = 3\\nvalue = [0, 3]'),\n",
              " Text(115.0875, 94.22399999999999, 'gini = 0.0\\nsamples = 4\\nvalue = [4, 0]'),\n",
              " Text(137.97421875, 123.216, 'X[3] <= 32.5\\ngini = 0.458\\nsamples = 62\\nvalue = [40, 22]'),\n",
              " Text(129.47343750000002, 108.72, 'X[2] <= 75.0\\ngini = 0.5\\nsamples = 35\\nvalue = [17, 18]'),\n",
              " Text(120.31875000000001, 94.22399999999999, 'X[7] <= 31.5\\ngini = 0.375\\nsamples = 20\\nvalue = [15, 5]'),\n",
              " Text(115.0875, 79.72799999999998, 'X[2] <= 59.0\\ngini = 0.444\\nsamples = 6\\nvalue = [2, 4]'),\n",
              " Text(112.471875, 65.232, 'gini = 0.0\\nsamples = 2\\nvalue = [2, 0]'),\n",
              " Text(117.703125, 65.232, 'gini = 0.0\\nsamples = 4\\nvalue = [0, 4]'),\n",
              " Text(125.55000000000001, 79.72799999999998, 'X[5] <= 38.15\\ngini = 0.133\\nsamples = 14\\nvalue = [13, 1]'),\n",
              " Text(122.934375, 65.232, 'gini = 0.0\\nsamples = 11\\nvalue = [11, 0]'),\n",
              " Text(128.165625, 65.232, 'X[1] <= 101.0\\ngini = 0.444\\nsamples = 3\\nvalue = [2, 1]'),\n",
              " Text(125.55000000000001, 50.73599999999999, 'gini = 0.0\\nsamples = 2\\nvalue = [2, 0]'),\n",
              " Text(130.78125, 50.73599999999999, 'gini = 0.0\\nsamples = 1\\nvalue = [0, 1]'),\n",
              " Text(138.628125, 94.22399999999999, 'X[3] <= 12.5\\ngini = 0.231\\nsamples = 15\\nvalue = [2, 13]'),\n",
              " Text(136.01250000000002, 79.72799999999998, 'X[6] <= 0.185\\ngini = 0.5\\nsamples = 4\\nvalue = [2, 2]'),\n",
              " Text(133.396875, 65.232, 'gini = 0.0\\nsamples = 2\\nvalue = [0, 2]'),\n",
              " Text(138.628125, 65.232, 'gini = 0.0\\nsamples = 2\\nvalue = [2, 0]'),\n",
              " Text(141.24375, 79.72799999999998, 'gini = 0.0\\nsamples = 11\\nvalue = [0, 11]'),\n",
              " Text(146.475, 108.72, 'X[6] <= 0.575\\ngini = 0.252\\nsamples = 27\\nvalue = [23, 4]'),\n",
              " Text(143.859375, 94.22399999999999, 'gini = 0.0\\nsamples = 21\\nvalue = [21, 0]'),\n",
              " Text(149.09062500000002, 94.22399999999999, 'X[5] <= 46.2\\ngini = 0.444\\nsamples = 6\\nvalue = [2, 4]'),\n",
              " Text(146.475, 79.72799999999998, 'gini = 0.0\\nsamples = 4\\nvalue = [0, 4]'),\n",
              " Text(151.70625, 79.72799999999998, 'gini = 0.0\\nsamples = 2\\nvalue = [2, 0]'),\n",
              " Text(201.5666015625, 152.208, 'X[5] <= 43.1\\ngini = 0.495\\nsamples = 235\\nvalue = [106, 129]'),\n",
              " Text(198.95097656250002, 137.712, 'X[2] <= 85.0\\ngini = 0.5\\nsamples = 218\\nvalue = [106, 112]'),\n",
              " Text(180.805078125, 123.216, 'X[0] <= 5.5\\ngini = 0.487\\nsamples = 176\\nvalue = [74, 102]'),\n",
              " Text(164.784375, 108.72, 'X[5] <= 38.15\\ngini = 0.496\\nsamples = 101\\nvalue = [55, 46]'),\n",
              " Text(159.553125, 94.22399999999999, 'X[6] <= 0.192\\ngini = 0.498\\nsamples = 85\\nvalue = [40, 45]'),\n",
              " Text(156.9375, 79.72799999999998, 'gini = 0.0\\nsamples = 11\\nvalue = [11, 0]'),\n",
              " Text(162.16875000000002, 79.72799999999998, 'X[6] <= 0.421\\ngini = 0.477\\nsamples = 74\\nvalue = [29, 45]'),\n",
              " Text(156.9375, 65.232, 'X[1] <= 136.5\\ngini = 0.264\\nsamples = 32\\nvalue = [5, 27]'),\n",
              " Text(154.321875, 50.73599999999999, 'X[3] <= 42.0\\ngini = 0.128\\nsamples = 29\\nvalue = [2, 27]'),\n",
              " Text(151.70625, 36.23999999999998, 'X[7] <= 29.5\\ngini = 0.069\\nsamples = 28\\nvalue = [1, 27]'),\n",
              " Text(149.09062500000002, 21.744, 'gini = 0.0\\nsamples = 1\\nvalue = [1, 0]'),\n",
              " Text(154.321875, 21.744, 'gini = 0.0\\nsamples = 27\\nvalue = [0, 27]'),\n",
              " Text(156.9375, 36.23999999999998, 'gini = 0.0\\nsamples = 1\\nvalue = [1, 0]'),\n",
              " Text(159.553125, 50.73599999999999, 'gini = 0.0\\nsamples = 3\\nvalue = [3, 0]'),\n",
              " Text(167.4, 65.232, 'X[7] <= 44.5\\ngini = 0.49\\nsamples = 42\\nvalue = [24, 18]'),\n",
              " Text(164.784375, 50.73599999999999, 'X[5] <= 32.15\\ngini = 0.397\\nsamples = 33\\nvalue = [24, 9]'),\n",
              " Text(162.16875000000002, 36.23999999999998, 'gini = 0.0\\nsamples = 22\\nvalue = [22, 0]'),\n",
              " Text(167.4, 36.23999999999998, 'X[7] <= 39.5\\ngini = 0.298\\nsamples = 11\\nvalue = [2, 9]'),\n",
              " Text(164.784375, 21.744, 'gini = 0.0\\nsamples = 9\\nvalue = [0, 9]'),\n",
              " Text(170.015625, 21.744, 'gini = 0.0\\nsamples = 2\\nvalue = [2, 0]'),\n",
              " Text(170.015625, 50.73599999999999, 'gini = 0.0\\nsamples = 9\\nvalue = [0, 9]'),\n",
              " Text(170.015625, 94.22399999999999, 'X[1] <= 129.5\\ngini = 0.117\\nsamples = 16\\nvalue = [15, 1]'),\n",
              " Text(167.4, 79.72799999999998, 'gini = 0.0\\nsamples = 15\\nvalue = [15, 0]'),\n",
              " Text(172.63125, 79.72799999999998, 'gini = 0.0\\nsamples = 1\\nvalue = [0, 1]'),\n",
              " Text(196.82578125, 108.72, 'X[3] <= 41.5\\ngini = 0.378\\nsamples = 75\\nvalue = [19, 56]'),\n",
              " Text(189.6328125, 94.22399999999999, 'X[6] <= 0.527\\ngini = 0.337\\nsamples = 70\\nvalue = [15, 55]'),\n",
              " Text(183.09375, 79.72799999999998, 'X[0] <= 8.5\\ngini = 0.45\\nsamples = 38\\nvalue = [13, 25]'),\n",
              " Text(177.8625, 65.232, 'X[4] <= 34.0\\ngini = 0.245\\nsamples = 14\\nvalue = [2, 12]'),\n",
              " Text(175.24687500000002, 50.73599999999999, 'gini = 0.0\\nsamples = 12\\nvalue = [0, 12]'),\n",
              " Text(180.478125, 50.73599999999999, 'gini = 0.0\\nsamples = 2\\nvalue = [2, 0]'),\n",
              " Text(188.32500000000002, 65.232, 'X[5] <= 36.5\\ngini = 0.497\\nsamples = 24\\nvalue = [11, 13]'),\n",
              " Text(185.709375, 50.73599999999999, 'X[1] <= 117.0\\ngini = 0.495\\nsamples = 20\\nvalue = [11, 9]'),\n",
              " Text(180.478125, 36.23999999999998, 'X[2] <= 59.0\\ngini = 0.444\\nsamples = 12\\nvalue = [4, 8]'),\n",
              " Text(177.8625, 21.744, 'gini = 0.0\\nsamples = 2\\nvalue = [2, 0]'),\n",
              " Text(183.09375, 21.744, 'X[7] <= 47.0\\ngini = 0.32\\nsamples = 10\\nvalue = [2, 8]'),\n",
              " Text(180.478125, 7.2479999999999905, 'gini = 0.0\\nsamples = 8\\nvalue = [0, 8]'),\n",
              " Text(185.709375, 7.2479999999999905, 'gini = 0.0\\nsamples = 2\\nvalue = [2, 0]'),\n",
              " Text(190.940625, 36.23999999999998, 'X[3] <= 34.0\\ngini = 0.219\\nsamples = 8\\nvalue = [7, 1]'),\n",
              " Text(188.32500000000002, 21.744, 'gini = 0.0\\nsamples = 7\\nvalue = [7, 0]'),\n",
              " Text(193.55625, 21.744, 'gini = 0.0\\nsamples = 1\\nvalue = [0, 1]'),\n",
              " Text(190.940625, 50.73599999999999, 'gini = 0.0\\nsamples = 4\\nvalue = [0, 4]'),\n",
              " Text(196.171875, 79.72799999999998, 'X[2] <= 83.0\\ngini = 0.117\\nsamples = 32\\nvalue = [2, 30]'),\n",
              " Text(193.55625, 65.232, 'gini = 0.0\\nsamples = 30\\nvalue = [0, 30]'),\n",
              " Text(198.7875, 65.232, 'gini = 0.0\\nsamples = 2\\nvalue = [2, 0]'),\n",
              " Text(204.01875, 94.22399999999999, 'X[1] <= 126.0\\ngini = 0.32\\nsamples = 5\\nvalue = [4, 1]'),\n",
              " Text(201.40312500000002, 79.72799999999998, 'gini = 0.0\\nsamples = 4\\nvalue = [4, 0]'),\n",
              " Text(206.634375, 79.72799999999998, 'gini = 0.0\\nsamples = 1\\nvalue = [0, 1]'),\n",
              " Text(217.096875, 123.216, 'X[4] <= 109.0\\ngini = 0.363\\nsamples = 42\\nvalue = [32, 10]'),\n",
              " Text(211.865625, 108.72, 'X[6] <= 0.735\\ngini = 0.161\\nsamples = 34\\nvalue = [31, 3]'),\n",
              " Text(209.25, 94.22399999999999, 'gini = 0.0\\nsamples = 29\\nvalue = [29, 0]'),\n",
              " Text(214.48125000000002, 94.22399999999999, 'X[7] <= 43.5\\ngini = 0.48\\nsamples = 5\\nvalue = [2, 3]'),\n",
              " Text(211.865625, 79.72799999999998, 'gini = 0.0\\nsamples = 3\\nvalue = [0, 3]'),\n",
              " Text(217.096875, 79.72799999999998, 'gini = 0.0\\nsamples = 2\\nvalue = [2, 0]'),\n",
              " Text(222.328125, 108.72, 'X[5] <= 32.6\\ngini = 0.219\\nsamples = 8\\nvalue = [1, 7]'),\n",
              " Text(219.7125, 94.22399999999999, 'gini = 0.0\\nsamples = 1\\nvalue = [1, 0]'),\n",
              " Text(224.94375, 94.22399999999999, 'gini = 0.0\\nsamples = 7\\nvalue = [0, 7]'),\n",
              " Text(204.1822265625, 137.712, 'gini = 0.0\\nsamples = 17\\nvalue = [0, 17]'),\n",
              " Text(262.62509765625003, 195.696, 'X[5] <= 29.95\\ngini = 0.446\\nsamples = 429\\nvalue = [144, 285]'),\n",
              " Text(228.8671875, 181.2, 'X[7] <= 26.5\\ngini = 0.477\\nsamples = 97\\nvalue = [59, 38]'),\n",
              " Text(219.7125, 166.704, 'X[0] <= 2.5\\ngini = 0.153\\nsamples = 24\\nvalue = [22, 2]'),\n",
              " Text(217.096875, 152.208, 'gini = 0.0\\nsamples = 21\\nvalue = [21, 0]'),\n",
              " Text(222.328125, 152.208, 'X[6] <= 0.407\\ngini = 0.444\\nsamples = 3\\nvalue = [1, 2]'),\n",
              " Text(219.7125, 137.712, 'gini = 0.0\\nsamples = 2\\nvalue = [0, 2]'),\n",
              " Text(224.94375, 137.712, 'gini = 0.0\\nsamples = 1\\nvalue = [1, 0]'),\n",
              " Text(238.021875, 166.704, 'X[5] <= 25.55\\ngini = 0.5\\nsamples = 73\\nvalue = [37, 36]'),\n",
              " Text(232.790625, 152.208, 'X[5] <= 22.2\\ngini = 0.278\\nsamples = 18\\nvalue = [3, 15]'),\n",
              " Text(230.175, 137.712, 'gini = 0.0\\nsamples = 3\\nvalue = [3, 0]'),\n",
              " Text(235.40625, 137.712, 'gini = 0.0\\nsamples = 15\\nvalue = [0, 15]'),\n",
              " Text(243.253125, 152.208, 'X[7] <= 52.0\\ngini = 0.472\\nsamples = 55\\nvalue = [34, 21]'),\n",
              " Text(240.63750000000002, 137.712, 'X[7] <= 41.0\\ngini = 0.5\\nsamples = 43\\nvalue = [22, 21]'),\n",
              " Text(238.021875, 123.216, 'X[1] <= 154.5\\ngini = 0.475\\nsamples = 36\\nvalue = [22, 14]'),\n",
              " Text(232.790625, 108.72, 'X[2] <= 28.0\\ngini = 0.245\\nsamples = 21\\nvalue = [18, 3]'),\n",
              " Text(230.175, 94.22399999999999, 'gini = 0.0\\nsamples = 2\\nvalue = [0, 2]'),\n",
              " Text(235.40625, 94.22399999999999, 'X[4] <= 276.5\\ngini = 0.1\\nsamples = 19\\nvalue = [18, 1]'),\n",
              " Text(232.790625, 79.72799999999998, 'gini = 0.0\\nsamples = 18\\nvalue = [18, 0]'),\n",
              " Text(238.021875, 79.72799999999998, 'gini = 0.0\\nsamples = 1\\nvalue = [0, 1]'),\n",
              " Text(243.253125, 108.72, 'X[7] <= 36.5\\ngini = 0.391\\nsamples = 15\\nvalue = [4, 11]'),\n",
              " Text(240.63750000000002, 94.22399999999999, 'gini = 0.0\\nsamples = 10\\nvalue = [0, 10]'),\n",
              " Text(245.86875, 94.22399999999999, 'X[0] <= 7.5\\ngini = 0.32\\nsamples = 5\\nvalue = [4, 1]'),\n",
              " Text(243.253125, 79.72799999999998, 'gini = 0.0\\nsamples = 4\\nvalue = [4, 0]'),\n",
              " Text(248.484375, 79.72799999999998, 'gini = 0.0\\nsamples = 1\\nvalue = [0, 1]'),\n",
              " Text(243.253125, 123.216, 'gini = 0.0\\nsamples = 7\\nvalue = [0, 7]'),\n",
              " Text(245.86875, 137.712, 'gini = 0.0\\nsamples = 12\\nvalue = [12, 0]'),\n",
              " Text(296.3830078125, 181.2, 'X[1] <= 157.5\\ngini = 0.381\\nsamples = 332\\nvalue = [85, 247]'),\n",
              " Text(270.7171875, 166.704, 'X[7] <= 30.5\\ngini = 0.474\\nsamples = 140\\nvalue = [54, 86]'),\n",
              " Text(258.94687500000003, 152.208, 'X[2] <= 61.0\\ngini = 0.477\\nsamples = 61\\nvalue = [37, 24]'),\n",
              " Text(256.33125, 137.712, 'gini = 0.0\\nsamples = 14\\nvalue = [0, 14]'),\n",
              " Text(261.5625, 137.712, 'X[2] <= 85.5\\ngini = 0.335\\nsamples = 47\\nvalue = [37, 10]'),\n",
              " Text(256.33125, 123.216, 'X[5] <= 32.0\\ngini = 0.245\\nsamples = 42\\nvalue = [36, 6]'),\n",
              " Text(253.71562500000002, 108.72, 'gini = 0.0\\nsamples = 2\\nvalue = [0, 2]'),\n",
              " Text(258.94687500000003, 108.72, 'X[0] <= 0.5\\ngini = 0.18\\nsamples = 40\\nvalue = [36, 4]'),\n",
              " Text(256.33125, 94.22399999999999, 'X[2] <= 76.0\\ngini = 0.463\\nsamples = 11\\nvalue = [7, 4]'),\n",
              " Text(253.71562500000002, 79.72799999999998, 'gini = 0.0\\nsamples = 4\\nvalue = [0, 4]'),\n",
              " Text(258.94687500000003, 79.72799999999998, 'gini = 0.0\\nsamples = 7\\nvalue = [7, 0]'),\n",
              " Text(261.5625, 94.22399999999999, 'gini = 0.0\\nsamples = 29\\nvalue = [29, 0]'),\n",
              " Text(266.79375, 123.216, 'X[4] <= 165.0\\ngini = 0.32\\nsamples = 5\\nvalue = [1, 4]'),\n",
              " Text(264.178125, 108.72, 'gini = 0.0\\nsamples = 4\\nvalue = [0, 4]'),\n",
              " Text(269.409375, 108.72, 'gini = 0.0\\nsamples = 1\\nvalue = [1, 0]'),\n",
              " Text(282.4875, 152.208, 'X[6] <= 0.287\\ngini = 0.338\\nsamples = 79\\nvalue = [17, 62]'),\n",
              " Text(274.640625, 137.712, 'X[6] <= 0.146\\ngini = 0.499\\nsamples = 21\\nvalue = [10, 11]'),\n",
              " Text(272.02500000000003, 123.216, 'gini = 0.0\\nsamples = 6\\nvalue = [0, 6]'),\n",
              " Text(277.25625, 123.216, 'X[0] <= 4.5\\ngini = 0.444\\nsamples = 15\\nvalue = [10, 5]'),\n",
              " Text(274.640625, 108.72, 'X[1] <= 143.5\\ngini = 0.278\\nsamples = 6\\nvalue = [1, 5]'),\n",
              " Text(272.02500000000003, 94.22399999999999, 'gini = 0.0\\nsamples = 1\\nvalue = [1, 0]'),\n",
              " Text(277.25625, 94.22399999999999, 'gini = 0.0\\nsamples = 5\\nvalue = [0, 5]'),\n",
              " Text(279.871875, 108.72, 'gini = 0.0\\nsamples = 9\\nvalue = [9, 0]'),\n",
              " Text(290.334375, 137.712, 'X[0] <= 12.5\\ngini = 0.212\\nsamples = 58\\nvalue = [7, 51]'),\n",
              " Text(287.71875, 123.216, 'X[4] <= 520.0\\ngini = 0.163\\nsamples = 56\\nvalue = [5, 51]'),\n",
              " Text(285.10312500000003, 108.72, 'X[6] <= 1.567\\ngini = 0.105\\nsamples = 54\\nvalue = [3, 51]'),\n",
              " Text(282.4875, 94.22399999999999, 'X[2] <= 77.0\\ngini = 0.073\\nsamples = 53\\nvalue = [2, 51]'),\n",
              " Text(279.871875, 79.72799999999998, 'X[5] <= 33.25\\ngini = 0.26\\nsamples = 13\\nvalue = [2, 11]'),\n",
              " Text(277.25625, 65.232, 'gini = 0.0\\nsamples = 1\\nvalue = [1, 0]'),\n",
              " Text(282.4875, 65.232, 'X[3] <= 41.0\\ngini = 0.153\\nsamples = 12\\nvalue = [1, 11]'),\n",
              " Text(279.871875, 50.73599999999999, 'gini = 0.0\\nsamples = 11\\nvalue = [0, 11]'),\n",
              " Text(285.10312500000003, 50.73599999999999, 'gini = 0.0\\nsamples = 1\\nvalue = [1, 0]'),\n",
              " Text(285.10312500000003, 79.72799999999998, 'gini = 0.0\\nsamples = 40\\nvalue = [0, 40]'),\n",
              " Text(287.71875, 94.22399999999999, 'gini = 0.0\\nsamples = 1\\nvalue = [1, 0]'),\n",
              " Text(290.334375, 108.72, 'gini = 0.0\\nsamples = 2\\nvalue = [2, 0]'),\n",
              " Text(292.95, 123.216, 'gini = 0.0\\nsamples = 2\\nvalue = [2, 0]'),\n",
              " Text(322.048828125, 166.704, 'X[5] <= 46.1\\ngini = 0.271\\nsamples = 192\\nvalue = [31, 161]'),\n",
              " Text(314.52890625000003, 152.208, 'X[6] <= 1.428\\ngini = 0.192\\nsamples = 167\\nvalue = [18, 149]'),\n",
              " Text(307.3359375, 137.712, 'X[6] <= 0.343\\ngini = 0.161\\nsamples = 159\\nvalue = [14, 145]'),\n",
              " Text(300.796875, 123.216, 'X[5] <= 35.3\\ngini = 0.301\\nsamples = 65\\nvalue = [12, 53]'),\n",
              " Text(295.565625, 108.72, 'X[7] <= 49.5\\ngini = 0.431\\nsamples = 35\\nvalue = [11, 24]'),\n",
              " Text(292.95, 94.22399999999999, 'X[5] <= 35.0\\ngini = 0.375\\nsamples = 32\\nvalue = [8, 24]'),\n",
              " Text(290.334375, 79.72799999999998, 'X[1] <= 159.5\\ngini = 0.285\\nsamples = 29\\nvalue = [5, 24]'),\n",
              " Text(287.71875, 65.232, 'gini = 0.0\\nsamples = 2\\nvalue = [2, 0]'),\n",
              " Text(292.95, 65.232, 'X[6] <= 0.27\\ngini = 0.198\\nsamples = 27\\nvalue = [3, 24]'),\n",
              " Text(290.334375, 50.73599999999999, 'gini = 0.0\\nsamples = 17\\nvalue = [0, 17]'),\n",
              " Text(295.565625, 50.73599999999999, 'X[6] <= 0.3\\ngini = 0.42\\nsamples = 10\\nvalue = [3, 7]'),\n",
              " Text(292.95, 36.23999999999998, 'gini = 0.0\\nsamples = 3\\nvalue = [3, 0]'),\n",
              " Text(298.18125000000003, 36.23999999999998, 'gini = 0.0\\nsamples = 7\\nvalue = [0, 7]'),\n",
              " Text(295.565625, 79.72799999999998, 'gini = 0.0\\nsamples = 3\\nvalue = [3, 0]'),\n",
              " Text(298.18125000000003, 94.22399999999999, 'gini = 0.0\\nsamples = 3\\nvalue = [3, 0]'),\n",
              " Text(306.028125, 108.72, 'X[2] <= 54.0\\ngini = 0.064\\nsamples = 30\\nvalue = [1, 29]'),\n",
              " Text(303.4125, 94.22399999999999, 'X[5] <= 42.0\\ngini = 0.444\\nsamples = 3\\nvalue = [1, 2]'),\n",
              " Text(300.796875, 79.72799999999998, 'gini = 0.0\\nsamples = 1\\nvalue = [1, 0]'),\n",
              " Text(306.028125, 79.72799999999998, 'gini = 0.0\\nsamples = 2\\nvalue = [0, 2]'),\n",
              " Text(308.64375, 94.22399999999999, 'gini = 0.0\\nsamples = 27\\nvalue = [0, 27]'),\n",
              " Text(313.875, 123.216, 'X[7] <= 48.0\\ngini = 0.042\\nsamples = 94\\nvalue = [2, 92]'),\n",
              " Text(311.25937500000003, 108.72, 'gini = 0.0\\nsamples = 76\\nvalue = [0, 76]'),\n",
              " Text(316.490625, 108.72, 'X[2] <= 69.0\\ngini = 0.198\\nsamples = 18\\nvalue = [2, 16]'),\n",
              " Text(313.875, 94.22399999999999, 'X[6] <= 0.623\\ngini = 0.444\\nsamples = 3\\nvalue = [2, 1]'),\n",
              " Text(311.25937500000003, 79.72799999999998, 'gini = 0.0\\nsamples = 1\\nvalue = [0, 1]'),\n",
              " Text(316.490625, 79.72799999999998, 'gini = 0.0\\nsamples = 2\\nvalue = [2, 0]'),\n",
              " Text(319.10625, 94.22399999999999, 'gini = 0.0\\nsamples = 15\\nvalue = [0, 15]'),\n",
              " Text(321.721875, 137.712, 'X[1] <= 181.5\\ngini = 0.5\\nsamples = 8\\nvalue = [4, 4]'),\n",
              " Text(319.10625, 123.216, 'gini = 0.0\\nsamples = 4\\nvalue = [0, 4]'),\n",
              " Text(324.33750000000003, 123.216, 'gini = 0.0\\nsamples = 4\\nvalue = [4, 0]'),\n",
              " Text(329.56875, 152.208, 'X[4] <= 120.0\\ngini = 0.499\\nsamples = 25\\nvalue = [13, 12]'),\n",
              " Text(326.953125, 137.712, 'gini = 0.0\\nsamples = 12\\nvalue = [0, 12]'),\n",
              " Text(332.184375, 137.712, 'gini = 0.0\\nsamples = 13\\nvalue = [13, 0]')]"
            ]
          },
          "metadata": {
            "tags": []
          },
          "execution_count": 78
        },
        {
          "output_type": "display_data",
          "data": {
            "image/png": "[encoded data removed]",
            "text/plain": [
              "<Figure size 432x288 with 1 Axes>"
            ]
          },
          "metadata": {
            "tags": [],
            "needs_background": "light"
          }
        }
      ]
    },
    {
      "cell_type": "markdown",
      "metadata": {
        "id": "FbU7zvH5e-Pp",
        "colab_type": "text"
      },
      "source": [
        "**Avaliação do modelo**"
      ]
    },
    {
      "cell_type": "code",
      "metadata": {
        "id": "kyKcJouFfFOZ",
        "colab_type": "code",
        "colab": {}
      },
      "source": [
        "previsoes = model_ad.predict(X_teste)"
      ],
      "execution_count": 0,
      "outputs": []
    },
    {
      "cell_type": "code",
      "metadata": {
        "id": "IpXjUS-DgciZ",
        "colab_type": "code",
        "colab": {}
      },
      "source": [
        "from sklearn.metrics import accuracy_score, confusion_matrix"
      ],
      "execution_count": 0,
      "outputs": []
    },
    {
      "cell_type": "code",
      "metadata": {
        "id": "RGPV-eJMgl9T",
        "colab_type": "code",
        "colab": {}
      },
      "source": [
        "precisao_model = accuracy_score(y_teste,previsoes)\n",
        "matriz = confusion_matrix(y_teste,previsoes)"
      ],
      "execution_count": 0,
      "outputs": []
    },
    {
      "cell_type": "code",
      "metadata": {
        "id": "_-LzPIJ_hCAA",
        "colab_type": "code",
        "colab": {
          "base_uri": "https://localhost:8080/",
          "height": 34
        },
        "outputId": "8c1e10ea-bcab-499c-a399-7fd487c94b28"
      },
      "source": [
        "precisao_model"
      ],
      "execution_count": 84,
      "outputs": [
        {
          "output_type": "execute_result",
          "data": {
            "text/plain": [
              "0.98"
            ]
          },
          "metadata": {
            "tags": []
          },
          "execution_count": 84
        }
      ]
    },
    {
      "cell_type": "code",
      "metadata": {
        "id": "iCJ1ZHEihEit",
        "colab_type": "code",
        "colab": {
          "base_uri": "https://localhost:8080/",
          "height": 52
        },
        "outputId": "fcda7186-cfbc-4f64-c4c6-04faaeb8129a"
      },
      "source": [
        "matriz"
      ],
      "execution_count": 85,
      "outputs": [
        {
          "output_type": "execute_result",
          "data": {
            "text/plain": [
              "array([[324,  10],\n",
              "       [  0, 166]])"
            ]
          },
          "metadata": {
            "tags": []
          },
          "execution_count": 85
        }
      ]
    }
  ]
}